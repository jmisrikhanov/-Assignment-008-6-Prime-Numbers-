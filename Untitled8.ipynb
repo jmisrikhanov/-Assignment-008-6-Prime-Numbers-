{
  "nbformat": 4,
  "nbformat_minor": 0,
  "metadata": {
    "colab": {
      "name": "Untitled8.ipynb",
      "provenance": [],
      "authorship_tag": "ABX9TyP1g+g/EJB/QtiY/6XoplIP",
      "include_colab_link": true
    },
    "kernelspec": {
      "name": "python3",
      "display_name": "Python 3"
    },
    "language_info": {
      "name": "python"
    }
  },
  "cells": [
    {
      "cell_type": "markdown",
      "metadata": {
        "id": "view-in-github",
        "colab_type": "text"
      },
      "source": [
        "<a href=\"https://colab.research.google.com/github/jmisrikhanov/-Assignment-008-6-Prime-Numbers-/blob/main/Untitled8.ipynb\" target=\"_parent\"><img src=\"https://colab.research.google.com/assets/colab-badge.svg\" alt=\"Open In Colab\"/></a>"
      ]
    },
    {
      "cell_type": "code",
      "metadata": {
        "colab": {
          "base_uri": "https://localhost:8080/"
        },
        "id": "4VdigTAtwoRv",
        "outputId": "44a54539-1640-49f4-e924-e2d71686bd6f"
      },
      "source": [
        "first = 1\n",
        "last = int(input(\"Enter the last number: \"))\n",
        "number = []\n",
        "for i in range(first,last):\n",
        "   if i > 1:\n",
        "       for x in range(2,i):\n",
        "           if (i % x) == 0:\n",
        "               break\n",
        "       else:\n",
        "         number.append(i)\n",
        "print(number)"
      ],
      "execution_count": 1,
      "outputs": [
        {
          "output_type": "stream",
          "text": [
            "Enter the last number: 100\n",
            "[2, 3, 5, 7, 11, 13, 17, 19, 23, 29, 31, 37, 41, 43, 47, 53, 59, 61, 67, 71, 73, 79, 83, 89, 97]\n"
          ],
          "name": "stdout"
        }
      ]
    }
  ]
}